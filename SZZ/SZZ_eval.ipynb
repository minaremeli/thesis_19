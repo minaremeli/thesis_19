{
 "cells": [
  {
   "cell_type": "code",
   "execution_count": 1,
   "metadata": {},
   "outputs": [],
   "source": [
    "from graph_tool.all import *\n",
    "from packaging import version\n",
    "import datetime\n",
    "import numpy as np\n",
    "import pytz\n",
    "from dateutil.parser import parse"
   ]
  },
  {
   "cell_type": "code",
   "execution_count": 2,
   "metadata": {},
   "outputs": [],
   "source": [
    "repo = \"hive\""
   ]
  },
  {
   "cell_type": "code",
   "execution_count": 3,
   "metadata": {},
   "outputs": [],
   "source": [
    "g = load_graph(\"outputs/\" + repo + \"/my_graph.graphml\")"
   ]
  },
  {
   "cell_type": "code",
   "execution_count": 4,
   "metadata": {},
   "outputs": [
    {
     "name": "stdout",
     "output_type": "stream",
     "text": [
      "affected_versions (vertex)  (type: string)\n",
      "caused_by      (vertex)  (type: string)\n",
      "commit_date    (vertex)  (type: string)\n",
      "created_date   (vertex)  (type: string)\n",
      "fixed_versions (vertex)  (type: string)\n",
      "jira_type      (vertex)  (type: string)\n",
      "jiraid         (vertex)  (type: string)\n",
      "sha            (vertex)  (type: string)\n",
      "summary        (vertex)  (type: string)\n"
     ]
    }
   ],
   "source": [
    "g.list_properties()"
   ]
  },
  {
   "cell_type": "markdown",
   "metadata": {},
   "source": [
    "# Earliest bug appearance\n",
    "**Disagreement**: bug-fix *affected-version* is older than bug-inducing *fixed version*\n",
    "\n",
    "**Disagreement ratio**: R(S) = D(S) / B(S) \n",
    "\n",
    "S: project\n",
    "\n",
    "D(S): number of disagreements in S\n",
    "\n",
    "B(S): total number of bugs in S"
   ]
  },
  {
   "cell_type": "code",
   "execution_count": 14,
   "metadata": {},
   "outputs": [],
   "source": [
    "def get_earliest_version(versions):\n",
    "    earliest = version.parse(versions[0])\n",
    "    for v in versions:\n",
    "        v = version.parse(v)\n",
    "        if v < earliest:\n",
    "            earliest = v\n",
    "    return earliest\n",
    "\n",
    "def get_earliest(prop_name, v):\n",
    "    versions = g.vertex_properties[prop_name][v]\n",
    "    if versions is not \"\":\n",
    "        all_versions = versions.split(\", \")\n",
    "#         print(all_versions)\n",
    "        earliest = get_earliest_version(all_versions)\n",
    "#         print(earliest)\n",
    "        return earliest"
   ]
  },
  {
   "cell_type": "code",
   "execution_count": 15,
   "metadata": {},
   "outputs": [
    {
     "name": "stdout",
     "output_type": "stream",
     "text": [
      "Disagreements: 945\n",
      "Bugs:  4667\n",
      "% of disagreements:  0.20248553674737518\n"
     ]
    }
   ],
   "source": [
    "bug_count = 0\n",
    "disagreement_count = 0\n",
    "for v in g.vertices():\n",
    "    out_neighbors = list(v.out_neighbors())\n",
    "    is_bug = len(out_neighbors) != 0\n",
    "    if is_bug:\n",
    "        bug_count += 1\n",
    "        earliest_fixed = get_earliest(\"fixed_versions\", v)\n",
    "        for bugfix in out_neighbors:\n",
    "            earliest_affected = get_earliest(\"affected_versions\", bugfix)\n",
    "            if earliest_affected and earliest_fixed and earliest_affected < earliest_fixed:\n",
    "                disagreement_count += 1\n",
    "            \n",
    "print(\"Disagreements:\", disagreement_count)\n",
    "print(\"Bugs: \", bug_count)\n",
    "print(\"% of disagreements: \", disagreement_count / bug_count)"
   ]
  },
  {
   "cell_type": "markdown",
   "metadata": {},
   "source": [
    "# Future impact of changes\n",
    "\n",
    "**% of multiple future bugs**\n",
    "\n",
    "future bug ~ fixed multiple times\n",
    "\n",
    "**time span of future bugs (average in days)**\n",
    "\n",
    "time passed between first bugfix and last bugfix"
   ]
  },
  {
   "cell_type": "code",
   "execution_count": 7,
   "metadata": {},
   "outputs": [],
   "source": [
    "def get_created_date(v):\n",
    "    return datetime.datetime.strptime(g.vertex_properties[\"created_date\"][v], '%Y-%m-%dT%H:%M:%S.%f%z').astimezone(pytz.utc)\n"
   ]
  },
  {
   "cell_type": "code",
   "execution_count": 8,
   "metadata": {},
   "outputs": [
    {
     "name": "stdout",
     "output_type": "stream",
     "text": [
      "Future bug count: 2661\n",
      "Bugs:  4667\n",
      "% of future bugs:  0.5701735590314978\n",
      "Time span average (days):  837.3881999248403\n"
     ]
    }
   ],
   "source": [
    "bugs = set()\n",
    "future_bug = set()\n",
    "time_span = []\n",
    "for v in g.vertices():\n",
    "    out_neighbors = list(v.out_neighbors())\n",
    "    is_bug = len(out_neighbors) != 0\n",
    "    if is_bug:\n",
    "        sha = g.vertex_properties[\"sha\"][v]\n",
    "        if sha not in bugs:\n",
    "            bugs.add(sha)\n",
    "        if len(out_neighbors) > 1:\n",
    "            future_bug.add(sha)\n",
    "            earliest_created = get_created_date(out_neighbors[0])\n",
    "            latest_created = get_created_date(out_neighbors[0])\n",
    "            for bugfix in out_neighbors:\n",
    "                created = get_created_date(bugfix)\n",
    "                if created < earliest_created:\n",
    "                    earliest_created = created\n",
    "                elif created > latest_created:\n",
    "                    latest_created = created\n",
    "            diff = latest_created - earliest_created\n",
    "            time_span.append(diff.days)\n",
    "                \n",
    "print(\"Future bug count:\", len(future_bug))\n",
    "print(\"Bugs: \", len(bugs))\n",
    "print(\"% of future bugs: \", len(future_bug) / len(bugs))\n",
    "print(\"Time span average (days): \", np.mean(np.array(time_span)))"
   ]
  },
  {
   "cell_type": "markdown",
   "metadata": {},
   "source": [
    "# Realism of bug introduction\n",
    "\n",
    "**Number of days between the first and last bug-introducing changes (median)**"
   ]
  },
  {
   "cell_type": "code",
   "execution_count": 9,
   "metadata": {},
   "outputs": [],
   "source": [
    "def get_committed_date(v):\n",
    "#     print(g.vertex_properties[\"commit_date\"][v])\n",
    "    return parse(g.vertex_properties[\"commit_date\"][v]).astimezone(pytz.utc)"
   ]
  },
  {
   "cell_type": "code",
   "execution_count": 10,
   "metadata": {},
   "outputs": [
    {
     "name": "stdout",
     "output_type": "stream",
     "text": [
      "Time span median (days):  1834.0\n"
     ]
    }
   ],
   "source": [
    "time_span_2 = []\n",
    "for v in g.vertices():\n",
    "    jira_type = g.vertex_properties[\"jira_type\"][v]\n",
    "    if jira_type == \"Bug\":\n",
    "        in_neighbors = list(v.in_neighbors())\n",
    "        if len(in_neighbors) != 0:\n",
    "            earliest_created = get_committed_date(in_neighbors[0])\n",
    "            latest_created = get_committed_date(in_neighbors[0])\n",
    "            for buggy in in_neighbors:\n",
    "                committed = get_created_date(bugfix)\n",
    "                if committed < earliest_created:\n",
    "                    earliest_created = committed\n",
    "                elif committed > latest_created:\n",
    "                    latest_created = committed\n",
    "            diff = latest_created - earliest_created\n",
    "            time_span_2.append(diff.days)\n",
    "\n",
    "print(\"Time span median (days): \", np.median(np.array(time_span_2)))"
   ]
  },
  {
   "cell_type": "markdown",
   "metadata": {},
   "source": [
    "# Statistics"
   ]
  },
  {
   "cell_type": "code",
   "execution_count": 11,
   "metadata": {},
   "outputs": [
    {
     "name": "stdout",
     "output_type": "stream",
     "text": [
      "Number of bug-fixing commits:  7345\n",
      "Number of bug-inducing commits:  4667\n",
      "Number of commits that are both:  2226\n"
     ]
    }
   ],
   "source": [
    "bug_fix_count = 0\n",
    "bug_inducing_count = 0\n",
    "both = 0\n",
    "for v in g.vertices():\n",
    "    jira_type = g.vertex_properties[\"jira_type\"][v]\n",
    "    is_bugfix = jira_type == \"Bug\"\n",
    "    if is_bugfix:\n",
    "        bug_fix_count += 1\n",
    "    out_neighbors = list(v.out_neighbors())\n",
    "    is_bug = len(out_neighbors) != 0\n",
    "    if is_bug:\n",
    "        bug_inducing_count += 1\n",
    "    if is_bugfix and is_bug:\n",
    "        both += 1\n",
    "        \n",
    "print(\"Number of bug-fixing commits: \", bug_fix_count)\n",
    "print(\"Number of bug-inducing commits: \", bug_inducing_count)\n",
    "print(\"Number of commits that are both: \", both)"
   ]
  },
  {
   "cell_type": "markdown",
   "metadata": {},
   "source": [
    "# % of linked bugs"
   ]
  },
  {
   "cell_type": "code",
   "execution_count": 12,
   "metadata": {
    "scrolled": true
   },
   "outputs": [
    {
     "name": "stdout",
     "output_type": "stream",
     "text": [
      "Number of bug-fixing commits:  7345\n",
      "Number of bug-fixing commits that have linked bugs:  4927\n",
      "% of linked bugs:  0.6707964601769911\n"
     ]
    }
   ],
   "source": [
    "bug_fix_count = 0\n",
    "bug_fix_has_linked_bug = 0\n",
    "for v in g.vertices():\n",
    "    jira_type = g.vertex_properties[\"jira_type\"][v]\n",
    "    is_bugfix = jira_type == \"Bug\"\n",
    "    if is_bugfix:\n",
    "        bug_fix_count += 1\n",
    "        in_neighbors = list(v.in_neighbors())\n",
    "        has_linked_bug = len(in_neighbors) != 0\n",
    "        if has_linked_bug:\n",
    "            bug_fix_has_linked_bug += 1\n",
    "            \n",
    "print(\"Number of bug-fixing commits: \", bug_fix_count)\n",
    "print(\"Number of bug-fixing commits that have linked bugs: \", bug_fix_has_linked_bug)\n",
    "print(\"% of linked bugs: \", bug_fix_has_linked_bug / bug_fix_count)"
   ]
  },
  {
   "cell_type": "markdown",
   "metadata": {},
   "source": [
    "# Found bug-inducing commits\n",
    "\n",
    "**Agreement**: when the algorithm finds the correct bug-inducing commit\n",
    "\n",
    "**% of agreements:** agreements / bugs flagged by developers\n",
    "\n",
    "**Average linked bugs:** number of candidate bugs the algorithm proposes on average"
   ]
  },
  {
   "cell_type": "code",
   "execution_count": 15,
   "metadata": {},
   "outputs": [
    {
     "name": "stdout",
     "output_type": "stream",
     "text": [
      "Agreements: 70\n",
      "Bugs flagged by developers:  174\n",
      "% of agreements:  0.40229885057471265\n",
      "Average linked bugs:  2.1743119266055047\n"
     ]
    }
   ],
   "source": [
    "bug_count = 0\n",
    "agreement_count = 0\n",
    "linked_bugs = []\n",
    "for i, v in enumerate(g.vertices()):\n",
    "    jira_type = g.vertex_properties[\"jira_type\"][v]\n",
    "    is_bugfix = jira_type == \"Bug\"\n",
    "    bugfix_jiraid = g.vertex_properties[\"jiraid\"][v]\n",
    "    bugfix_sha = g.vertex_properties[\"sha\"][v]\n",
    "    if is_bugfix:\n",
    "        caused_by = g.vertex_properties[\"caused_by\"][v].split(\", \")\n",
    "        if caused_by != ['']:\n",
    "            bug_count += 1\n",
    "            in_neighbors = list(v.in_neighbors())\n",
    "            has_linked_bug = len(in_neighbors) != 0\n",
    "            if has_linked_bug:\n",
    "                linked_bugs.append(len(in_neighbors))\n",
    "                for bug in in_neighbors:\n",
    "                    bug_jira_id = g.vertex_properties[\"jiraid\"][bug]\n",
    "                    if bug_jira_id in caused_by:\n",
    "                        agreement_count += 1\n",
    "#                         print(\"%s fixed by %s (%s)\" % (bug_jira_id, bugfix_jiraid, bugfix_sha))\n",
    "            \n",
    "print(\"Agreements:\", agreement_count)\n",
    "print(\"Bugs flagged by developers: \", bug_count)\n",
    "print(\"% of agreements: \", agreement_count / bug_count)\n",
    "print(\"Average linked bugs: \", np.mean(linked_bugs))"
   ]
  },
  {
   "cell_type": "code",
   "execution_count": 21,
   "metadata": {},
   "outputs": [],
   "source": [
    "def bugs(jira_id):\n",
    "    for v in g.vertices():\n",
    "        bugfix_jira_id = g.vertex_properties[\"jiraid\"][v]\n",
    "        if bugfix_jira_id == jira_id:\n",
    "            bugfix = v\n",
    "    in_neighbors = list(bugfix.in_neighbors())\n",
    "    blamed_ids = []\n",
    "    for bug in in_neighbors:\n",
    "        bug_jira_id = g.vertex_properties[\"jiraid\"][bug]\n",
    "        blamed_ids.append(bug_jira_id)\n",
    "    print(blamed_ids)"
   ]
  },
  {
   "cell_type": "code",
   "execution_count": null,
   "metadata": {},
   "outputs": [],
   "source": []
  }
 ],
 "metadata": {
  "kernelspec": {
   "display_name": "Python 3",
   "language": "python",
   "name": "python3"
  },
  "language_info": {
   "codemirror_mode": {
    "name": "ipython",
    "version": 3
   },
   "file_extension": ".py",
   "mimetype": "text/x-python",
   "name": "python",
   "nbconvert_exporter": "python",
   "pygments_lexer": "ipython3",
   "version": "3.7.2"
  }
 },
 "nbformat": 4,
 "nbformat_minor": 2
}
