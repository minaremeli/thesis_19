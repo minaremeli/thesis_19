{
 "cells": [
  {
   "cell_type": "code",
   "execution_count": 168,
   "metadata": {},
   "outputs": [],
   "source": [
    "import pandas as pd\n",
    "import numpy as np\n",
    "import functools"
   ]
  },
  {
   "cell_type": "code",
   "execution_count": 2,
   "metadata": {},
   "outputs": [],
   "source": [
    "df = pd.read_csv(\"szz_data.csv\")"
   ]
  },
  {
   "cell_type": "code",
   "execution_count": 6,
   "metadata": {
    "scrolled": true
   },
   "outputs": [
    {
     "data": {
      "text/plain": [
       "Index(['sha', 'num_of_insertions', 'num_of_deletions', 'num_of_changed_files',\n",
       "       'day_of_week', 'hour_of_commit', 'solve_time', 'resolution_time',\n",
       "       'solve_res_diff', 'number_of_comments', 'components',\n",
       "       'affects_versions', 'number_of_patches', 'patch_size_mean',\n",
       "       'patch_size_variance', 'patch_size_rel_variance',\n",
       "       'filepath_contains_test', 'label'],\n",
       "      dtype='object')"
      ]
     },
     "execution_count": 6,
     "metadata": {},
     "output_type": "execute_result"
    }
   ],
   "source": [
    "df.columns"
   ]
  },
  {
   "cell_type": "code",
   "execution_count": 4,
   "metadata": {},
   "outputs": [],
   "source": [
    "df.drop(['summary', 'description', 'comments'], axis=1, inplace=True)"
   ]
  },
  {
   "cell_type": "code",
   "execution_count": 252,
   "metadata": {},
   "outputs": [],
   "source": [
    "def func(groupby, x):\n",
    "    if isinstance(x, list):\n",
    "        agg = groupby[x]\n",
    "        result = (agg[:,\"count\"] * agg[:,\"mean\"]).sum() / agg[:,\"count\"].sum()\n",
    "        return result\n",
    "#     print(groupby)\n",
    "    return groupby[:,\"mean\"].mean()\n",
    "\n",
    "def multi_value_target_encoding(df, by_labels, on_label, separator):\n",
    "    dummy = df.copy()\n",
    "    results = []\n",
    "    for by in by_labels:\n",
    "        dummy[by] = dummy[by].str.split(separator)\n",
    "        groupby_count_mean = (dummy\n",
    "           .set_index(on_label)[by]\n",
    "           .apply(pd.Series)\n",
    "           .stack()\n",
    "           .reset_index(name=by)  # Reshape the data\n",
    "           .groupby([by])\n",
    "           .label\n",
    "           .apply(lambda x: x.agg(['count', 'mean'])))\n",
    "#         print(groupby_count_mean)\n",
    "\n",
    "        my_func = functools.partial(func, groupby_count_mean)\n",
    "        res = dummy[by].map(my_func).to_numpy()\n",
    "        results.append(res)\n",
    "    return np.vstack(results).T\n",
    "        "
   ]
  },
  {
   "cell_type": "code",
   "execution_count": 5,
   "metadata": {},
   "outputs": [],
   "source": [
    "from sklearn.compose import ColumnTransformer\n",
    "from sklearn.pipeline import Pipeline\n",
    "from sklearn.impute import SimpleImputer\n",
    "from sklearn.preprocessing import StandardScaler, OneHotEncoder\n",
    "from sklearn.linear_model import LogisticRegression\n",
    "from sklearn.ensemble import RandomForestClassifier\n",
    "from sklearn.model_selection import train_test_split"
   ]
  },
  {
   "cell_type": "code",
   "execution_count": 250,
   "metadata": {},
   "outputs": [],
   "source": [
    "numeric_features = ['num_of_insertions', 'num_of_deletions', 'num_of_changed_files', \n",
    "                      'day_of_week', 'hour_of_commit', 'solve_time', 'resolution_time', \n",
    "                     'solve_res_diff', 'number_of_comments', 'number_of_patches',\n",
    "                    'patch_size_mean', 'patch_size_variance', 'patch_size_rel_variance', 'filepath_contains_test']\n",
    "\n",
    "numeric_transformer = Pipeline(steps=[('imputer', SimpleImputer(strategy='median'))])\n",
    "\n",
    "# categorical encoding: http://contrib.scikit-learn.org/categorical-encoding/\n",
    "\n",
    "preprocessor = ColumnTransformer(\n",
    "    transformers=[\n",
    "        ('num', numeric_transformer, numeric_features)],\n",
    "    remainder='drop')\n",
    "\n",
    "categorical_features = ['components', 'affects_versions']\n",
    "processed_features = numeric_features + categorical_features"
   ]
  },
  {
   "cell_type": "code",
   "execution_count": 253,
   "metadata": {},
   "outputs": [],
   "source": [
    "X = df.drop('label', axis=1)\n",
    "y = df['label']\n",
    "# preprocess X\n",
    "X = preprocessor.fit_transform(X, y)\n",
    "X_categorical = multi_value_target_encoding(df, categorical_features, 'label', ';')\n",
    "X = np.concatenate((X,X_categorical), axis=1)"
   ]
  },
  {
   "cell_type": "code",
   "execution_count": 256,
   "metadata": {},
   "outputs": [
    {
     "name": "stdout",
     "output_type": "stream",
     "text": [
      "model score: 0.780\n"
     ]
    }
   ],
   "source": [
    "X_train, X_test, y_train, y_test = train_test_split(X, y, test_size=0.2)\n",
    "\n",
    "model = RandomForestClassifier(n_estimators=200)\n",
    "model.fit(X_train, y_train)\n",
    "print(\"model score: %.3f\" % model.score(X_test, y_test))"
   ]
  },
  {
   "cell_type": "code",
   "execution_count": 257,
   "metadata": {},
   "outputs": [],
   "source": [
    "def get_feature_importances(model):\n",
    "    fetaure_importances = zip(processed_features, model.feature_importances_)\n",
    "    fetaure_importances = sorted(fetaure_importances, key=lambda x: x[1], reverse=True)\n",
    "    for feature_name, importance in fetaure_importances:\n",
    "        print(\"%s: %f\" % (feature_name, importance))"
   ]
  },
  {
   "cell_type": "code",
   "execution_count": 258,
   "metadata": {},
   "outputs": [
    {
     "name": "stdout",
     "output_type": "stream",
     "text": [
      "num_of_insertions: 0.143263\n",
      "affects_versions: 0.095665\n",
      "patch_size_mean: 0.089580\n",
      "num_of_changed_files: 0.079608\n",
      "num_of_deletions: 0.072670\n",
      "components: 0.068645\n",
      "solve_res_diff: 0.067557\n",
      "solve_time: 0.061444\n",
      "resolution_time: 0.059784\n",
      "number_of_comments: 0.049103\n",
      "patch_size_variance: 0.046281\n",
      "patch_size_rel_variance: 0.045633\n",
      "hour_of_commit: 0.044846\n",
      "number_of_patches: 0.030357\n",
      "day_of_week: 0.029128\n",
      "filepath_contains_test: 0.016436\n"
     ]
    }
   ],
   "source": [
    "get_feature_importances(model)"
   ]
  },
  {
   "cell_type": "code",
   "execution_count": null,
   "metadata": {},
   "outputs": [],
   "source": []
  }
 ],
 "metadata": {
  "kernelspec": {
   "display_name": "venv_CRA",
   "language": "python",
   "name": "venv_cra"
  },
  "language_info": {
   "codemirror_mode": {
    "name": "ipython",
    "version": 3
   },
   "file_extension": ".py",
   "mimetype": "text/x-python",
   "name": "python",
   "nbconvert_exporter": "python",
   "pygments_lexer": "ipython3",
   "version": "3.7.2"
  }
 },
 "nbformat": 4,
 "nbformat_minor": 2
}
